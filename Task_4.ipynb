{
 "cells": [
  {
   "cell_type": "markdown",
   "id": "f31d1f53",
   "metadata": {},
   "source": [
    "## Task 4\n",
    "#### Write a Python Function that takes two List and return True if they have atleast one common member"
   ]
  },
  {
   "cell_type": "code",
   "execution_count": 1,
   "id": "59030f56",
   "metadata": {},
   "outputs": [
    {
     "name": "stdout",
     "output_type": "stream",
     "text": [
      "False\n"
     ]
    }
   ],
   "source": [
    "list1 = [1,3,5,7,9]\n",
    "list2 = [2,4,6,8,10]\n",
    "\n",
    "def Common(x,y):\n",
    "    temp = False\n",
    "    for i in x:\n",
    "        if i in y:\n",
    "            temp = True\n",
    "            break\n",
    "    return temp\n",
    "\n",
    "result = Common(list1,list2)\n",
    "if(result):\n",
    "    print(\"True\")\n",
    "else:\n",
    "    print(\"False\")"
   ]
  },
  {
   "cell_type": "code",
   "execution_count": null,
   "id": "06a6ac58",
   "metadata": {},
   "outputs": [],
   "source": []
  }
 ],
 "metadata": {
  "kernelspec": {
   "display_name": "Python 3",
   "language": "python",
   "name": "python3"
  },
  "language_info": {
   "codemirror_mode": {
    "name": "ipython",
    "version": 3
   },
   "file_extension": ".py",
   "mimetype": "text/x-python",
   "name": "python",
   "nbconvert_exporter": "python",
   "pygments_lexer": "ipython3",
   "version": "3.8.8"
  }
 },
 "nbformat": 4,
 "nbformat_minor": 5
}
