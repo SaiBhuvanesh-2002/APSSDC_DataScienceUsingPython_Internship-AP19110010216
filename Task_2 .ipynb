{
 "cells": [
  {
   "cell_type": "markdown",
   "id": "5838fe3c",
   "metadata": {},
   "source": [
    "# S.Sai Bhuvanesh -AP19110010216\n",
    "\n",
    "\n",
    "### Take last 3 values of roll number\n",
    "    *If the value startswith \"01\" ---> \"Cse dept\"\n",
    "    *elif the value startswith \"11\" ---> \"It dept\"\n",
    "    *elif the value startswith \"21\" ---> \"Ece dept\"\n",
    "    *else not a student of Srm University"
   ]
  },
  {
   "cell_type": "code",
   "execution_count": 1,
   "id": "450a6a29",
   "metadata": {},
   "outputs": [
    {
     "name": "stdout",
     "output_type": "stream",
     "text": [
      "Enter roll number: 19110010216\n",
      "Student Belongs to CSE Department\n"
     ]
    }
   ],
   "source": [
    "student= input(\"Enter roll number: \")\n",
    "\n",
    "if student[-3:].startswith(\"01\"):\n",
    "    \n",
    "     print(\"Student Belongs to CSE Department\")\n",
    "    \n",
    "elif student[-3:].startswith(\"11\"):\n",
    "    \n",
    "    print(\"Student Belongs to IT Department\")\n",
    "    \n",
    "elif student[-3:].startswith(\"21\"):\n",
    "    \n",
    "    print(\"Student Belongs to CSE Department\")\n",
    "    \n",
    "else:\n",
    "    \n",
    "    print(\"Not SRM University Student\")"
   ]
  },
  {
   "cell_type": "markdown",
   "id": "5fd95d05",
   "metadata": {},
   "source": [
    "## Find all leap years between 1800 to 2020"
   ]
  },
  {
   "cell_type": "code",
   "execution_count": 7,
   "id": "56843778",
   "metadata": {},
   "outputs": [
    {
     "name": "stdout",
     "output_type": "stream",
     "text": [
      "1804  1808  1812  1816  1820  1824  1828  1832  1836  1840  1844  1848  1852  1856  1860  1864  1868  1872  1876  1880  1884  1888  1892  1896  1904  1908  1912  1916  1920  1924  1928  1932  1936  1940  1944  1948  1952  1956  1960  1964  1968  1972  1976  1980  1984  1988  1992  1996  2000  2004  2008  2012  2016  2020  "
     ]
    }
   ],
   "source": [
    "for i in range(1800,2020+1):\n",
    "    \n",
    "    if (i%4 == 0 and i%100 != 0) or i%400 == 0:\n",
    "        \n",
    "        print(i,end=\"  \")"
   ]
  },
  {
   "cell_type": "code",
   "execution_count": null,
   "id": "7f81113f",
   "metadata": {},
   "outputs": [],
   "source": []
  }
 ],
 "metadata": {
  "kernelspec": {
   "display_name": "Python 3",
   "language": "python",
   "name": "python3"
  },
  "language_info": {
   "codemirror_mode": {
    "name": "ipython",
    "version": 3
   },
   "file_extension": ".py",
   "mimetype": "text/x-python",
   "name": "python",
   "nbconvert_exporter": "python",
   "pygments_lexer": "ipython3",
   "version": "3.8.8"
  }
 },
 "nbformat": 4,
 "nbformat_minor": 5
}
