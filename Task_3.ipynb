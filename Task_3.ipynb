{
 "cells": [
  {
   "cell_type": "markdown",
   "id": "5db486ec",
   "metadata": {},
   "source": [
    "### Task 3:\n",
    "#### take input from the user.\n",
    "#### check the length of the string even or odd\n",
    "#### if the string length is odd access one middle character\n",
    "#### if the string length is even access two middle characters"
   ]
  },
  {
   "cell_type": "code",
   "execution_count": 5,
   "id": "30fd7b97",
   "metadata": {},
   "outputs": [
    {
     "name": "stdout",
     "output_type": "stream",
     "text": [
      "Enter your input: Ravi\n",
      "Length of your string is 4\n",
      "Length of your string is Even\n",
      "Middle character of your string is av\n"
     ]
    }
   ],
   "source": [
    "#Even Case\n",
    "x = input(\"Enter your input: \")\n",
    "print('Length of your string is', len(x))\n",
    "if (len(x) % 2 == 0):\n",
    "    print(\"Length of your string is Even\")\n",
    "else:\n",
    "    print(\"Length of your string is Odd\")\n",
    "def middle_char(x):\n",
    "    return x[(len(x)-1)//2:(len(x)+2)//2]\n",
    "print(\"Middle character of your string is\", middle_char(x))"
   ]
  },
  {
   "cell_type": "code",
   "execution_count": 6,
   "id": "c63320d1",
   "metadata": {},
   "outputs": [
    {
     "name": "stdout",
     "output_type": "stream",
     "text": [
      "Enter your input: Bhuvanesh\n",
      "Length of your string is 9\n",
      "Length of your string is Odd\n",
      "Middle character of your string is a\n"
     ]
    }
   ],
   "source": [
    "#Odd Case\n",
    "x = input(\"Enter your input: \")\n",
    "print('Length of your string is', len(x))\n",
    "if (len(x) % 2 == 0):\n",
    "    print(\"Length of your string is Even\")\n",
    "else:\n",
    "    print(\"Length of your string is Odd\")\n",
    "def middle_char(x):\n",
    "    return x[(len(x)-1)//2:(len(x)+2)//2]\n",
    "print(\"Middle character of your string is\", middle_char(x))"
   ]
  },
  {
   "cell_type": "code",
   "execution_count": null,
   "id": "c9675937",
   "metadata": {},
   "outputs": [],
   "source": []
  }
 ],
 "metadata": {
  "kernelspec": {
   "display_name": "Python 3",
   "language": "python",
   "name": "python3"
  },
  "language_info": {
   "codemirror_mode": {
    "name": "ipython",
    "version": 3
   },
   "file_extension": ".py",
   "mimetype": "text/x-python",
   "name": "python",
   "nbconvert_exporter": "python",
   "pygments_lexer": "ipython3",
   "version": "3.8.8"
  }
 },
 "nbformat": 4,
 "nbformat_minor": 5
}
